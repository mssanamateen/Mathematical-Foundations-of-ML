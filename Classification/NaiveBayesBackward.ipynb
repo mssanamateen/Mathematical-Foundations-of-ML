{
 "cells": [
  {
   "cell_type": "code",
   "execution_count": 7,
   "id": "f2e00aae-52f2-4576-854a-d4285f697a3a",
   "metadata": {},
   "outputs": [
    {
     "name": "stdout",
     "output_type": "stream",
     "text": [
      "Collecting mlxtend\n",
      "  Downloading mlxtend-0.23.4-py3-none-any.whl.metadata (7.3 kB)\n",
      "Requirement already satisfied: scipy>=1.2.1 in c:\\users\\hp\\anaconda3\\lib\\site-packages (from mlxtend) (1.13.1)\n",
      "Requirement already satisfied: numpy>=1.16.2 in c:\\users\\hp\\anaconda3\\lib\\site-packages (from mlxtend) (1.26.4)\n",
      "Requirement already satisfied: pandas>=0.24.2 in c:\\users\\hp\\anaconda3\\lib\\site-packages (from mlxtend) (2.2.3)\n",
      "Collecting scikit-learn>=1.3.1 (from mlxtend)\n",
      "  Downloading scikit_learn-1.6.1-cp311-cp311-win_amd64.whl.metadata (15 kB)\n",
      "Requirement already satisfied: matplotlib>=3.0.0 in c:\\users\\hp\\anaconda3\\lib\\site-packages (from mlxtend) (3.10.1)\n",
      "Requirement already satisfied: joblib>=0.13.2 in c:\\users\\hp\\anaconda3\\lib\\site-packages (from mlxtend) (1.2.0)\n",
      "Requirement already satisfied: contourpy>=1.0.1 in c:\\users\\hp\\anaconda3\\lib\\site-packages (from matplotlib>=3.0.0->mlxtend) (1.2.0)\n",
      "Requirement already satisfied: cycler>=0.10 in c:\\users\\hp\\anaconda3\\lib\\site-packages (from matplotlib>=3.0.0->mlxtend) (0.11.0)\n",
      "Requirement already satisfied: fonttools>=4.22.0 in c:\\users\\hp\\anaconda3\\lib\\site-packages (from matplotlib>=3.0.0->mlxtend) (4.25.0)\n",
      "Requirement already satisfied: kiwisolver>=1.3.1 in c:\\users\\hp\\anaconda3\\lib\\site-packages (from matplotlib>=3.0.0->mlxtend) (1.4.4)\n",
      "Requirement already satisfied: packaging>=20.0 in c:\\users\\hp\\anaconda3\\lib\\site-packages (from matplotlib>=3.0.0->mlxtend) (23.1)\n",
      "Requirement already satisfied: pillow>=8 in c:\\users\\hp\\anaconda3\\lib\\site-packages (from matplotlib>=3.0.0->mlxtend) (10.2.0)\n",
      "Requirement already satisfied: pyparsing>=2.3.1 in c:\\users\\hp\\anaconda3\\lib\\site-packages (from matplotlib>=3.0.0->mlxtend) (3.0.9)\n",
      "Requirement already satisfied: python-dateutil>=2.7 in c:\\users\\hp\\anaconda3\\lib\\site-packages (from matplotlib>=3.0.0->mlxtend) (2.8.2)\n",
      "Requirement already satisfied: pytz>=2020.1 in c:\\users\\hp\\anaconda3\\lib\\site-packages (from pandas>=0.24.2->mlxtend) (2023.3.post1)\n",
      "Requirement already satisfied: tzdata>=2022.7 in c:\\users\\hp\\anaconda3\\lib\\site-packages (from pandas>=0.24.2->mlxtend) (2023.3)\n",
      "Requirement already satisfied: threadpoolctl>=3.1.0 in c:\\users\\hp\\anaconda3\\lib\\site-packages (from scikit-learn>=1.3.1->mlxtend) (3.5.0)\n",
      "Requirement already satisfied: six>=1.5 in c:\\users\\hp\\anaconda3\\lib\\site-packages (from python-dateutil>=2.7->matplotlib>=3.0.0->mlxtend) (1.16.0)\n",
      "Downloading mlxtend-0.23.4-py3-none-any.whl (1.4 MB)\n",
      "   ---------------------------------------- 0.0/1.4 MB ? eta -:--:--\n",
      "   -- ------------------------------------- 0.1/1.4 MB 1.7 MB/s eta 0:00:01\n",
      "   ----- ---------------------------------- 0.2/1.4 MB 3.5 MB/s eta 0:00:01\n",
      "   ------ --------------------------------- 0.2/1.4 MB 1.6 MB/s eta 0:00:01\n",
      "   --------- ------------------------------ 0.3/1.4 MB 1.8 MB/s eta 0:00:01\n",
      "   ----------- ---------------------------- 0.4/1.4 MB 1.8 MB/s eta 0:00:01\n",
      "   -------------- ------------------------- 0.5/1.4 MB 1.7 MB/s eta 0:00:01\n",
      "   ------------------ --------------------- 0.6/1.4 MB 1.8 MB/s eta 0:00:01\n",
      "   ----------------------- ---------------- 0.8/1.4 MB 2.0 MB/s eta 0:00:01\n",
      "   ------------------------- -------------- 0.9/1.4 MB 2.0 MB/s eta 0:00:01\n",
      "   -------------------------- ------------- 0.9/1.4 MB 2.0 MB/s eta 0:00:01\n",
      "   ----------------------------- ---------- 1.0/1.4 MB 2.1 MB/s eta 0:00:01\n",
      "   ------------------------------- -------- 1.1/1.4 MB 1.9 MB/s eta 0:00:01\n",
      "   --------------------------------- ------ 1.1/1.4 MB 1.9 MB/s eta 0:00:01\n",
      "   ---------------------------------------  1.4/1.4 MB 2.1 MB/s eta 0:00:01\n",
      "   ---------------------------------------- 1.4/1.4 MB 2.0 MB/s eta 0:00:00\n",
      "Downloading scikit_learn-1.6.1-cp311-cp311-win_amd64.whl (11.1 MB)\n",
      "   ---------------------------------------- 0.0/11.1 MB ? eta -:--:--\n",
      "    --------------------------------------- 0.2/11.1 MB 6.3 MB/s eta 0:00:02\n",
      "   - -------------------------------------- 0.5/11.1 MB 6.2 MB/s eta 0:00:02\n",
      "   -- ------------------------------------- 0.7/11.1 MB 5.7 MB/s eta 0:00:02\n",
      "   --- ------------------------------------ 1.0/11.1 MB 6.0 MB/s eta 0:00:02\n",
      "   ---- ----------------------------------- 1.3/11.1 MB 6.0 MB/s eta 0:00:02\n",
      "   ----- ---------------------------------- 1.5/11.1 MB 5.7 MB/s eta 0:00:02\n",
      "   ------ --------------------------------- 1.9/11.1 MB 6.1 MB/s eta 0:00:02\n",
      "   ------- -------------------------------- 2.2/11.1 MB 6.0 MB/s eta 0:00:02\n",
      "   --------- ------------------------------ 2.7/11.1 MB 6.5 MB/s eta 0:00:02\n",
      "   ---------- ----------------------------- 2.9/11.1 MB 6.4 MB/s eta 0:00:02\n",
      "   ----------- ---------------------------- 3.3/11.1 MB 6.6 MB/s eta 0:00:02\n",
      "   ------------- -------------------------- 3.7/11.1 MB 6.7 MB/s eta 0:00:02\n",
      "   -------------- ------------------------- 4.1/11.1 MB 6.8 MB/s eta 0:00:02\n",
      "   --------------- ------------------------ 4.4/11.1 MB 6.8 MB/s eta 0:00:02\n",
      "   ---------------- ----------------------- 4.6/11.1 MB 6.7 MB/s eta 0:00:01\n",
      "   ----------------- ---------------------- 4.9/11.1 MB 6.7 MB/s eta 0:00:01\n",
      "   ------------------ --------------------- 5.3/11.1 MB 6.7 MB/s eta 0:00:01\n",
      "   ------------------- -------------------- 5.5/11.1 MB 6.7 MB/s eta 0:00:01\n",
      "   ------------------- -------------------- 5.5/11.1 MB 6.5 MB/s eta 0:00:01\n",
      "   --------------------- ------------------ 5.9/11.1 MB 6.4 MB/s eta 0:00:01\n",
      "   --------------------- ------------------ 6.1/11.1 MB 6.3 MB/s eta 0:00:01\n",
      "   ----------------------- ---------------- 6.4/11.1 MB 6.3 MB/s eta 0:00:01\n",
      "   ------------------------ --------------- 6.7/11.1 MB 6.3 MB/s eta 0:00:01\n",
      "   ------------------------- -------------- 7.0/11.1 MB 6.3 MB/s eta 0:00:01\n",
      "   ------------------------- -------------- 7.0/11.1 MB 6.3 MB/s eta 0:00:01\n",
      "   ------------------------- -------------- 7.0/11.1 MB 6.3 MB/s eta 0:00:01\n",
      "   ------------------------- -------------- 7.1/11.1 MB 5.6 MB/s eta 0:00:01\n",
      "   -------------------------- ------------- 7.2/11.1 MB 5.6 MB/s eta 0:00:01\n",
      "   -------------------------- ------------- 7.4/11.1 MB 5.6 MB/s eta 0:00:01\n",
      "   --------------------------- ------------ 7.7/11.1 MB 5.5 MB/s eta 0:00:01\n",
      "   ---------------------------- ----------- 7.9/11.1 MB 5.5 MB/s eta 0:00:01\n",
      "   ----------------------------- ---------- 8.2/11.1 MB 5.5 MB/s eta 0:00:01\n",
      "   ------------------------------ --------- 8.6/11.1 MB 5.6 MB/s eta 0:00:01\n",
      "   ------------------------------- -------- 8.8/11.1 MB 5.6 MB/s eta 0:00:01\n",
      "   ------------------------------- -------- 8.9/11.1 MB 5.5 MB/s eta 0:00:01\n",
      "   --------------------------------- ------ 9.2/11.1 MB 5.5 MB/s eta 0:00:01\n",
      "   --------------------------------- ------ 9.2/11.1 MB 5.5 MB/s eta 0:00:01\n",
      "   --------------------------------- ------ 9.4/11.1 MB 5.4 MB/s eta 0:00:01\n",
      "   ---------------------------------- ----- 9.6/11.1 MB 5.3 MB/s eta 0:00:01\n",
      "   ----------------------------------- ---- 9.8/11.1 MB 5.3 MB/s eta 0:00:01\n",
      "   ------------------------------------ --- 10.2/11.1 MB 5.4 MB/s eta 0:00:01\n",
      "   -------------------------------------- - 10.7/11.1 MB 5.5 MB/s eta 0:00:01\n",
      "   -------------------------------------- - 10.7/11.1 MB 5.5 MB/s eta 0:00:01\n",
      "   ---------------------------------------  11.1/11.1 MB 5.4 MB/s eta 0:00:01\n",
      "   ---------------------------------------  11.1/11.1 MB 5.4 MB/s eta 0:00:01\n",
      "   ---------------------------------------  11.1/11.1 MB 5.4 MB/s eta 0:00:01\n",
      "   ---------------------------------------- 11.1/11.1 MB 5.0 MB/s eta 0:00:00\n",
      "Installing collected packages: scikit-learn, mlxtend\n",
      "  Attempting uninstall: scikit-learn\n",
      "    Found existing installation: scikit-learn 1.2.2\n",
      "    Uninstalling scikit-learn-1.2.2:\n",
      "      Successfully uninstalled scikit-learn-1.2.2\n",
      "Successfully installed mlxtend-0.23.4 scikit-learn-1.6.1\n"
     ]
    },
    {
     "name": "stderr",
     "output_type": "stream",
     "text": [
      "  WARNING: Failed to remove contents in a temporary directory 'C:\\Users\\HP\\anaconda3\\Lib\\site-packages\\~klearn'.\n",
      "  You can safely remove it manually.\n"
     ]
    }
   ],
   "source": [
    "!pip install mlxtend"
   ]
  },
  {
   "cell_type": "code",
   "execution_count": 20,
   "id": "c31288a6-4890-4bf1-a143-76686ceb22ab",
   "metadata": {},
   "outputs": [],
   "source": [
    "import pandas as pd\n",
    "import numpy as np\n",
    "from sklearn.model_selection import train_test_split\n",
    "from sklearn.naive_bayes import GaussianNB\n",
    "from mlxtend.feature_selection import SequentialFeatureSelector as SFS\n",
    "from sklearn.metrics import accuracy_score\n",
    "\n",
    "# Creating a simple dataset\n",
    "data = {\n",
    "    'Study_Hours': [1, 2, 3, 4, 5, 6, 7, 8, 9, 10],\n",
    "    'Sleep_Hours': [7, 6, 8, 5, 6, 7, 8, 5, 4, 6],\n",
    "    'Breaks_Taken': [5, 3, 2, 4, 1, 3, 2, 5, 4, 2],\n",
    "    'Prev_Score': [50, 55, 65, 60, 70, 80, 75, 85, 90, 95],\n",
    "    'Pass': [0, 0, 0, 0, 1, 1, 1, 1, 1, 1]  # 0 = Fail, 1 = Pass\n",
    "}\n",
    "\n",
    "df = pd.DataFrame(data)\n",
    "\n",
    "# Split features (X) and target (y)\n",
    "X = df.drop(columns=['Pass'])\n",
    "y = df['Pass']\n",
    "\n",
    "# Train-Test Split\n",
    "X_train, X_test, y_train, y_test = train_test_split(X, y, test_size=0.3, random_state=42)\n",
    "\n"
   ]
  },
  {
   "cell_type": "code",
   "execution_count": 22,
   "id": "82314f9c-af65-4756-be29-e7895777596a",
   "metadata": {},
   "outputs": [
    {
     "name": "stdout",
     "output_type": "stream",
     "text": [
      "Selected Features (Backward Wrapper): ['Study_Hours', 'Prev_Score']\n"
     ]
    }
   ],
   "source": [
    "# Initialize Naïve Bayes model\n",
    "nb_model = GaussianNB()\n",
    "\n",
    "# Apply Backward Feature Selection\n",
    "sfs = SFS(nb_model, \n",
    "          k_features=2,  # We want to keep the best 2 features\n",
    "          forward=False,  # Backward selection\n",
    "          floating=False,  \n",
    "          scoring='accuracy', \n",
    "          cv=3)  # 3-fold cross-validation\n",
    "\n",
    "sfs.fit(X_train, y_train)\n",
    "\n",
    "# Get selected features\n",
    "selected_features = list(X.columns[list(sfs.k_feature_idx_)])\n",
    "print(\"Selected Features (Backward Wrapper):\", selected_features)\n"
   ]
  },
  {
   "cell_type": "code",
   "execution_count": 24,
   "id": "14524a07-4ab9-4caa-86bc-feafa08f2770",
   "metadata": {},
   "outputs": [
    {
     "name": "stdout",
     "output_type": "stream",
     "text": [
      "Naïve Bayes Accuracy: 1.0\n"
     ]
    }
   ],
   "source": [
    "# Train model with selected features\n",
    "X_train_selected = X_train[selected_features]\n",
    "X_test_selected = X_test[selected_features]\n",
    "\n",
    "# Train Naïve Bayes\n",
    "nb_model.fit(X_train_selected, y_train)\n",
    "\n",
    "# Make predictions\n",
    "y_pred = nb_model.predict(X_test_selected)\n",
    "\n",
    "# Calculate accuracy\n",
    "accuracy = accuracy_score(y_test, y_pred)\n",
    "print(\"Naïve Bayes Accuracy:\", accuracy)\n"
   ]
  },
  {
   "cell_type": "code",
   "execution_count": null,
   "id": "ed9de3af-3422-459a-879d-01b5e601e4b0",
   "metadata": {},
   "outputs": [],
   "source": []
  },
  {
   "cell_type": "code",
   "execution_count": null,
   "id": "e6dff428-b1c6-49ac-b0a6-f7b9035a5fe4",
   "metadata": {},
   "outputs": [],
   "source": []
  },
  {
   "cell_type": "code",
   "execution_count": null,
   "id": "53123254-06e1-43a6-bca6-cdba70f375ac",
   "metadata": {},
   "outputs": [],
   "source": []
  }
 ],
 "metadata": {
  "kernelspec": {
   "display_name": "Python 3 (ipykernel)",
   "language": "python",
   "name": "python3"
  },
  "language_info": {
   "codemirror_mode": {
    "name": "ipython",
    "version": 3
   },
   "file_extension": ".py",
   "mimetype": "text/x-python",
   "name": "python",
   "nbconvert_exporter": "python",
   "pygments_lexer": "ipython3",
   "version": "3.11.7"
  }
 },
 "nbformat": 4,
 "nbformat_minor": 5
}
