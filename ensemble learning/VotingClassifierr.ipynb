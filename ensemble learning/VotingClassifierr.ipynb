{
 "cells": [
  {
   "cell_type": "code",
   "execution_count": 1,
   "id": "09df1edc-81d8-4df1-9e2a-4c614b99e897",
   "metadata": {},
   "outputs": [],
   "source": [
    "from sklearn.linear_model import LogisticRegression\n",
    "from sklearn.naive_bayes import GaussianNB\n",
    "from sklearn.ensemble import  VotingClassifier\n",
    "from sklearn.tree import DecisionTreeClassifier\n",
    "import pandas as pd"
   ]
  },
  {
   "cell_type": "code",
   "execution_count": 3,
   "id": "08d37d3f-2d25-4f64-8430-a431e4f2565b",
   "metadata": {},
   "outputs": [
    {
     "data": {
      "text/html": [
       "<div>\n",
       "<style scoped>\n",
       "    .dataframe tbody tr th:only-of-type {\n",
       "        vertical-align: middle;\n",
       "    }\n",
       "\n",
       "    .dataframe tbody tr th {\n",
       "        vertical-align: top;\n",
       "    }\n",
       "\n",
       "    .dataframe thead th {\n",
       "        text-align: right;\n",
       "    }\n",
       "</style>\n",
       "<table border=\"1\" class=\"dataframe\">\n",
       "  <thead>\n",
       "    <tr style=\"text-align: right;\">\n",
       "      <th></th>\n",
       "      <th>Loan_ID</th>\n",
       "      <th>Dependents</th>\n",
       "      <th>ApplicantIncome</th>\n",
       "      <th>CoapplicantIncome</th>\n",
       "      <th>LoanAmount</th>\n",
       "      <th>Loan_Amount_Term</th>\n",
       "      <th>Credit_History</th>\n",
       "      <th>gender_Male</th>\n",
       "      <th>married_Yes</th>\n",
       "      <th>education_Not Graduate</th>\n",
       "      <th>property_area_Semiurban</th>\n",
       "      <th>property_area_Urban</th>\n",
       "      <th>self_employed_Yes</th>\n",
       "      <th>Loan_status_Y</th>\n",
       "    </tr>\n",
       "  </thead>\n",
       "  <tbody>\n",
       "    <tr>\n",
       "      <th>1</th>\n",
       "      <td>LP001003</td>\n",
       "      <td>1</td>\n",
       "      <td>4583</td>\n",
       "      <td>1508.0</td>\n",
       "      <td>128.0</td>\n",
       "      <td>360.0</td>\n",
       "      <td>1.0</td>\n",
       "      <td>1</td>\n",
       "      <td>1</td>\n",
       "      <td>0</td>\n",
       "      <td>0</td>\n",
       "      <td>0</td>\n",
       "      <td>0</td>\n",
       "      <td>0</td>\n",
       "    </tr>\n",
       "    <tr>\n",
       "      <th>2</th>\n",
       "      <td>LP001005</td>\n",
       "      <td>0</td>\n",
       "      <td>3000</td>\n",
       "      <td>0.0</td>\n",
       "      <td>66.0</td>\n",
       "      <td>360.0</td>\n",
       "      <td>1.0</td>\n",
       "      <td>1</td>\n",
       "      <td>1</td>\n",
       "      <td>0</td>\n",
       "      <td>0</td>\n",
       "      <td>1</td>\n",
       "      <td>1</td>\n",
       "      <td>1</td>\n",
       "    </tr>\n",
       "    <tr>\n",
       "      <th>3</th>\n",
       "      <td>LP001006</td>\n",
       "      <td>0</td>\n",
       "      <td>2583</td>\n",
       "      <td>2358.0</td>\n",
       "      <td>120.0</td>\n",
       "      <td>360.0</td>\n",
       "      <td>1.0</td>\n",
       "      <td>1</td>\n",
       "      <td>1</td>\n",
       "      <td>1</td>\n",
       "      <td>0</td>\n",
       "      <td>1</td>\n",
       "      <td>0</td>\n",
       "      <td>1</td>\n",
       "    </tr>\n",
       "    <tr>\n",
       "      <th>4</th>\n",
       "      <td>LP001008</td>\n",
       "      <td>0</td>\n",
       "      <td>6000</td>\n",
       "      <td>0.0</td>\n",
       "      <td>141.0</td>\n",
       "      <td>360.0</td>\n",
       "      <td>1.0</td>\n",
       "      <td>1</td>\n",
       "      <td>0</td>\n",
       "      <td>0</td>\n",
       "      <td>0</td>\n",
       "      <td>1</td>\n",
       "      <td>0</td>\n",
       "      <td>1</td>\n",
       "    </tr>\n",
       "    <tr>\n",
       "      <th>5</th>\n",
       "      <td>LP001011</td>\n",
       "      <td>2</td>\n",
       "      <td>5417</td>\n",
       "      <td>4196.0</td>\n",
       "      <td>267.0</td>\n",
       "      <td>360.0</td>\n",
       "      <td>1.0</td>\n",
       "      <td>1</td>\n",
       "      <td>1</td>\n",
       "      <td>0</td>\n",
       "      <td>0</td>\n",
       "      <td>1</td>\n",
       "      <td>1</td>\n",
       "      <td>1</td>\n",
       "    </tr>\n",
       "  </tbody>\n",
       "</table>\n",
       "</div>"
      ],
      "text/plain": [
       "    Loan_ID Dependents  ApplicantIncome  CoapplicantIncome  LoanAmount  \\\n",
       "1  LP001003          1             4583             1508.0       128.0   \n",
       "2  LP001005          0             3000                0.0        66.0   \n",
       "3  LP001006          0             2583             2358.0       120.0   \n",
       "4  LP001008          0             6000                0.0       141.0   \n",
       "5  LP001011          2             5417             4196.0       267.0   \n",
       "\n",
       "   Loan_Amount_Term  Credit_History  gender_Male  married_Yes  \\\n",
       "1             360.0             1.0            1            1   \n",
       "2             360.0             1.0            1            1   \n",
       "3             360.0             1.0            1            1   \n",
       "4             360.0             1.0            1            0   \n",
       "5             360.0             1.0            1            1   \n",
       "\n",
       "   education_Not Graduate  property_area_Semiurban  property_area_Urban  \\\n",
       "1                       0                        0                    0   \n",
       "2                       0                        0                    1   \n",
       "3                       1                        0                    1   \n",
       "4                       0                        0                    1   \n",
       "5                       0                        0                    1   \n",
       "\n",
       "   self_employed_Yes  Loan_status_Y  \n",
       "1                  0              0  \n",
       "2                  1              1  \n",
       "3                  0              1  \n",
       "4                  0              1  \n",
       "5                  1              1  "
      ]
     },
     "execution_count": 3,
     "metadata": {},
     "output_type": "execute_result"
    }
   ],
   "source": [
    "df=pd.read_csv(\"./dataset/train_clean_data.csv\",index_col=0)\n",
    "df.head()"
   ]
  },
  {
   "cell_type": "code",
   "execution_count": 5,
   "id": "a1e447b5-84fe-4087-9f70-7800ad76239a",
   "metadata": {},
   "outputs": [
    {
     "name": "stdout",
     "output_type": "stream",
     "text": [
      "<class 'pandas.core.frame.DataFrame'>\n",
      "Index: 517 entries, 1 to 613\n",
      "Data columns (total 14 columns):\n",
      " #   Column                   Non-Null Count  Dtype  \n",
      "---  ------                   --------------  -----  \n",
      " 0   Loan_ID                  517 non-null    object \n",
      " 1   Dependents               517 non-null    object \n",
      " 2   ApplicantIncome          517 non-null    int64  \n",
      " 3   CoapplicantIncome        517 non-null    float64\n",
      " 4   LoanAmount               517 non-null    float64\n",
      " 5   Loan_Amount_Term         517 non-null    float64\n",
      " 6   Credit_History           517 non-null    float64\n",
      " 7   gender_Male              517 non-null    int64  \n",
      " 8   married_Yes              517 non-null    int64  \n",
      " 9   education_Not Graduate   517 non-null    int64  \n",
      " 10  property_area_Semiurban  517 non-null    int64  \n",
      " 11  property_area_Urban      517 non-null    int64  \n",
      " 12  self_employed_Yes        517 non-null    int64  \n",
      " 13  Loan_status_Y            517 non-null    int64  \n",
      "dtypes: float64(4), int64(8), object(2)\n",
      "memory usage: 60.6+ KB\n"
     ]
    }
   ],
   "source": [
    "df.info()"
   ]
  },
  {
   "cell_type": "code",
   "execution_count": 7,
   "id": "9c1ec358-435d-4228-95cf-1ffb866e3745",
   "metadata": {},
   "outputs": [
    {
     "data": {
      "text/plain": [
       "(517, 14)"
      ]
     },
     "execution_count": 7,
     "metadata": {},
     "output_type": "execute_result"
    }
   ],
   "source": [
    "df.shape"
   ]
  },
  {
   "cell_type": "code",
   "execution_count": 9,
   "id": "da78cd97-7ec6-4207-8878-c88ebd610487",
   "metadata": {},
   "outputs": [
    {
     "data": {
      "text/plain": [
       "Loan_status_Y\n",
       "1    360\n",
       "0    157\n",
       "Name: count, dtype: int64"
      ]
     },
     "execution_count": 9,
     "metadata": {},
     "output_type": "execute_result"
    }
   ],
   "source": [
    "df['Loan_status_Y'].value_counts()"
   ]
  },
  {
   "cell_type": "code",
   "execution_count": 11,
   "id": "7a6a08e6-503b-4a0e-a9c3-c5a89a7dfc91",
   "metadata": {},
   "outputs": [],
   "source": [
    "''' Train Test Split'''\n",
    "X=df.drop(['Loan_ID','Dependents','Loan_status_Y'],axis=1)\n",
    "y=df['Loan_status_Y']"
   ]
  },
  {
   "cell_type": "code",
   "execution_count": 13,
   "id": "86189dde-acf4-42d0-972f-1538a45504ce",
   "metadata": {},
   "outputs": [],
   "source": [
    "from sklearn.model_selection import train_test_split\n",
    "X_train,X_test, y_train,y_test=train_test_split(X,y, test_size=0.33,stratify=y,random_state=42)"
   ]
  },
  {
   "cell_type": "code",
   "execution_count": 15,
   "id": "0345b3f3-07b6-45b1-bd4a-b59c77dde268",
   "metadata": {},
   "outputs": [
    {
     "name": "stdout",
     "output_type": "stream",
     "text": [
      "Requirement already satisfied: scikit-learn in c:\\users\\hp\\anaconda3\\lib\\site-packages (1.6.1)\n",
      "Collecting scikit-learn\n",
      "  Downloading scikit_learn-1.7.0-cp311-cp311-win_amd64.whl.metadata (14 kB)\n",
      "Requirement already satisfied: numpy>=1.22.0 in c:\\users\\hp\\anaconda3\\lib\\site-packages (from scikit-learn) (1.26.4)\n",
      "Requirement already satisfied: scipy>=1.8.0 in c:\\users\\hp\\anaconda3\\lib\\site-packages (from scikit-learn) (1.13.1)\n",
      "Requirement already satisfied: joblib>=1.2.0 in c:\\users\\hp\\anaconda3\\lib\\site-packages (from scikit-learn) (1.2.0)\n",
      "Requirement already satisfied: threadpoolctl>=3.1.0 in c:\\users\\hp\\anaconda3\\lib\\site-packages (from scikit-learn) (3.5.0)\n",
      "Downloading scikit_learn-1.7.0-cp311-cp311-win_amd64.whl (10.7 MB)\n",
      "   ---------------------------------------- 0.0/10.7 MB ? eta -:--:--\n",
      "   - -------------------------------------- 0.4/10.7 MB 10.9 MB/s eta 0:00:01\n",
      "   --- ------------------------------------ 0.8/10.7 MB 10.2 MB/s eta 0:00:01\n",
      "   ----- ---------------------------------- 1.3/10.7 MB 10.6 MB/s eta 0:00:01\n",
      "   ------ --------------------------------- 1.8/10.7 MB 10.5 MB/s eta 0:00:01\n",
      "   -------- ------------------------------- 2.2/10.7 MB 10.8 MB/s eta 0:00:01\n",
      "   ---------- ----------------------------- 2.8/10.7 MB 10.4 MB/s eta 0:00:01\n",
      "   ------------ --------------------------- 3.3/10.7 MB 10.5 MB/s eta 0:00:01\n",
      "   -------------- ------------------------- 3.8/10.7 MB 10.4 MB/s eta 0:00:01\n",
      "   --------------- ------------------------ 4.2/10.7 MB 10.3 MB/s eta 0:00:01\n",
      "   ----------------- ---------------------- 4.7/10.7 MB 10.4 MB/s eta 0:00:01\n",
      "   ------------------- -------------------- 5.2/10.7 MB 10.3 MB/s eta 0:00:01\n",
      "   --------------------- ------------------ 5.7/10.7 MB 10.4 MB/s eta 0:00:01\n",
      "   ----------------------- ---------------- 6.2/10.7 MB 10.4 MB/s eta 0:00:01\n",
      "   ------------------------- -------------- 6.7/10.7 MB 10.5 MB/s eta 0:00:01\n",
      "   -------------------------- ------------- 7.2/10.7 MB 10.4 MB/s eta 0:00:01\n",
      "   ---------------------------- ----------- 7.7/10.7 MB 10.7 MB/s eta 0:00:01\n",
      "   ------------------------------ --------- 8.2/10.7 MB 10.7 MB/s eta 0:00:01\n",
      "   -------------------------------- ------- 8.7/10.7 MB 10.7 MB/s eta 0:00:01\n",
      "   ---------------------------------- ----- 9.2/10.7 MB 10.6 MB/s eta 0:00:01\n",
      "   ------------------------------------ --- 9.7/10.7 MB 10.6 MB/s eta 0:00:01\n",
      "   ------------------------------------- -- 10.2/10.7 MB 10.7 MB/s eta 0:00:01\n",
      "   ---------------------------------------  10.6/10.7 MB 10.6 MB/s eta 0:00:01\n",
      "   ---------------------------------------- 10.7/10.7 MB 10.2 MB/s eta 0:00:00\n",
      "Installing collected packages: scikit-learn\n",
      "  Attempting uninstall: scikit-learn\n",
      "    Found existing installation: scikit-learn 1.6.1\n",
      "    Uninstalling scikit-learn-1.6.1:\n",
      "      Successfully uninstalled scikit-learn-1.6.1\n",
      "Successfully installed scikit-learn-1.7.0\n"
     ]
    },
    {
     "name": "stderr",
     "output_type": "stream",
     "text": [
      "  WARNING: Failed to remove contents in a temporary directory 'C:\\Users\\HP\\anaconda3\\Lib\\site-packages\\~-learn'.\n",
      "  You can safely remove it manually.\n",
      "ERROR: pip's dependency resolver does not currently take into account all the packages that are installed. This behaviour is the source of the following dependency conflicts.\n",
      "sklearn-compat 0.1.3 requires scikit-learn<1.7,>=1.2, but you have scikit-learn 1.7.0 which is incompatible.\n"
     ]
    },
    {
     "name": "stdout",
     "output_type": "stream",
     "text": [
      "Requirement already satisfied: imbalanced-learn in c:\\users\\hp\\anaconda3\\lib\\site-packages (0.13.0)\n",
      "Requirement already satisfied: numpy<3,>=1.24.3 in c:\\users\\hp\\anaconda3\\lib\\site-packages (from imbalanced-learn) (1.26.4)\n",
      "Requirement already satisfied: scipy<2,>=1.10.1 in c:\\users\\hp\\anaconda3\\lib\\site-packages (from imbalanced-learn) (1.13.1)\n",
      "Requirement already satisfied: scikit-learn<2,>=1.3.2 in c:\\users\\hp\\anaconda3\\lib\\site-packages (from imbalanced-learn) (1.7.0)\n",
      "Requirement already satisfied: sklearn-compat<1,>=0.1 in c:\\users\\hp\\anaconda3\\lib\\site-packages (from imbalanced-learn) (0.1.3)\n",
      "Requirement already satisfied: joblib<2,>=1.1.1 in c:\\users\\hp\\anaconda3\\lib\\site-packages (from imbalanced-learn) (1.2.0)\n",
      "Requirement already satisfied: threadpoolctl<4,>=2.0.0 in c:\\users\\hp\\anaconda3\\lib\\site-packages (from imbalanced-learn) (3.5.0)\n",
      "Collecting scikit-learn<2,>=1.3.2 (from imbalanced-learn)\n",
      "  Using cached scikit_learn-1.6.1-cp311-cp311-win_amd64.whl.metadata (15 kB)\n",
      "Using cached scikit_learn-1.6.1-cp311-cp311-win_amd64.whl (11.1 MB)\n",
      "Installing collected packages: scikit-learn\n",
      "  Attempting uninstall: scikit-learn\n",
      "    Found existing installation: scikit-learn 1.7.0\n",
      "    Uninstalling scikit-learn-1.7.0:\n",
      "      Successfully uninstalled scikit-learn-1.7.0\n",
      "Successfully installed scikit-learn-1.6.1\n"
     ]
    }
   ],
   "source": [
    "!pip install --upgrade scikit-learn\n",
    "!pip install --upgrade imbalanced-learn"
   ]
  },
  {
   "cell_type": "markdown",
   "id": "bb8b6688-365f-47b1-9d83-a425c769a8f1",
   "metadata": {},
   "source": [
    "**Synthetic Minority Over-sampling Technique**\n",
    "- using SMOTE (Synthetic Minority Over-sampling Technique) from the imblearn library to balance an imbalanced dataset\n",
    "- The target **y_train** has **at least one minority class with fewer samples** than the majority class — otherwise SMOTE has nothing to balance.\n",
    "- If you have **categorical features in X_train,** consider using **SMOTENC** instead of SMOTE, as regular SMOTE is designed for numerical data only.\n",
    "- SMOTE for Nominal and Continuous features. It allows you to handle mixed-type data (numerical + categorical) during oversampling.\n",
    "- SMOTE creates new, synthetic samples by **interpolating**(finding a point between two known points.) between existing ones."
   ]
  },
  {
   "cell_type": "code",
   "execution_count": 18,
   "id": "13685534-0bf9-4f97-87c6-5cc3307f4f15",
   "metadata": {},
   "outputs": [],
   "source": [
    "from imblearn.over_sampling import SMOTE\n",
    "'''set the random state, it ensures that the synthetic data generated during the oversampling process is the same every time you run the code'''\n",
    "smote = SMOTE(random_state=42)\n",
    "X_train_res, y_train_res = smote.fit_resample(X_train, y_train)"
   ]
  },
  {
   "cell_type": "code",
   "execution_count": 20,
   "id": "78493438-f3f5-4e7e-8e00-bef844f7d8d8",
   "metadata": {},
   "outputs": [
    {
     "data": {
      "text/plain": [
       "(482, 11)"
      ]
     },
     "execution_count": 20,
     "metadata": {},
     "output_type": "execute_result"
    }
   ],
   "source": [
    "X_train_res.shape"
   ]
  },
  {
   "cell_type": "code",
   "execution_count": 22,
   "id": "e153f5e5-83eb-48cf-93b0-fb18d284698b",
   "metadata": {},
   "outputs": [
    {
     "data": {
      "text/plain": [
       "(482,)"
      ]
     },
     "execution_count": 22,
     "metadata": {},
     "output_type": "execute_result"
    }
   ],
   "source": [
    "y_train_res.shape"
   ]
  },
  {
   "cell_type": "markdown",
   "id": "087d2387-9d91-4eb0-8f81-b2396515cb63",
   "metadata": {},
   "source": [
    "**Voting classifier**"
   ]
  },
  {
   "cell_type": "code",
   "execution_count": 25,
   "id": "d7047fc0-dae8-4ae4-a988-a544a7888643",
   "metadata": {},
   "outputs": [],
   "source": [
    "clf1=DecisionTreeClassifier(class_weight='balanced')\n",
    "clf2=GaussianNB()\n",
    "clf3=LogisticRegression(solver='liblinear',max_iter=200,class_weight='balanced')"
   ]
  },
  {
   "cell_type": "code",
   "execution_count": 27,
   "id": "b82c3bc5-0872-4055-b968-ef7f2b9f94bb",
   "metadata": {},
   "outputs": [],
   "source": [
    "eclf1=VotingClassifier(estimators=[('DT',clf1),('GNB',clf2),('LR',clf3)], voting='hard')\n",
    "eclf1=eclf1.fit(X_train_res,y_train_res)"
   ]
  },
  {
   "cell_type": "code",
   "execution_count": 29,
   "id": "59971fda-bca6-49bc-b73e-5d239bc5ea43",
   "metadata": {},
   "outputs": [],
   "source": [
    "predictions=eclf1.predict(X_test)"
   ]
  },
  {
   "cell_type": "code",
   "execution_count": 31,
   "id": "237f57b7-755b-46c9-b3c8-c8b3b6579142",
   "metadata": {},
   "outputs": [
    {
     "data": {
      "text/plain": [
       "array([0, 0, 1, 1, 1, 1, 1, 1, 1, 1, 1, 1, 1, 1, 1, 1, 1, 1, 0, 1, 0, 1,\n",
       "       1, 1, 0, 0, 1, 1, 1, 0, 1, 1, 1, 0, 1, 1, 0, 1, 1, 0, 0, 1, 0, 1,\n",
       "       1, 1, 1, 0, 1, 1, 0, 1, 1, 1, 1, 1, 1, 1, 1, 1, 1, 1, 1, 1, 1, 1,\n",
       "       1, 1, 0, 0, 0, 0, 1, 1, 1, 1, 0, 1, 1, 0, 1, 0, 1, 0, 1, 0, 1, 1,\n",
       "       0, 0, 1, 0, 1, 1, 1, 1, 1, 1, 1, 1, 1, 1, 0, 1, 1, 1, 1, 1, 1, 1,\n",
       "       1, 1, 1, 1, 1, 1, 1, 1, 1, 1, 1, 1, 1, 1, 1, 1, 0, 1, 1, 1, 0, 0,\n",
       "       1, 1, 0, 1, 0, 0, 1, 0, 1, 1, 0, 0, 0, 1, 1, 1, 1, 1, 1, 1, 1, 0,\n",
       "       1, 0, 0, 1, 1, 0, 1, 1, 1, 1, 1, 0, 0, 1, 1, 1, 0], dtype=int64)"
      ]
     },
     "execution_count": 31,
     "metadata": {},
     "output_type": "execute_result"
    }
   ],
   "source": [
    "predictions"
   ]
  },
  {
   "cell_type": "code",
   "execution_count": 33,
   "id": "6444cd39-bc64-4fae-acfa-1f0bd3976700",
   "metadata": {},
   "outputs": [
    {
     "name": "stdout",
     "output_type": "stream",
     "text": [
      "              precision    recall  f1-score   support\n",
      "\n",
      "           0       0.73      0.62      0.67        52\n",
      "           1       0.84      0.90      0.87       119\n",
      "\n",
      "    accuracy                           0.81       171\n",
      "   macro avg       0.78      0.76      0.77       171\n",
      "weighted avg       0.81      0.81      0.81       171\n",
      "\n",
      "[[ 32  20]\n",
      " [ 12 107]]\n"
     ]
    }
   ],
   "source": [
    "from sklearn.metrics import classification_report , confusion_matrix\n",
    "\n",
    "print(classification_report(y_test,predictions))\n",
    "print(confusion_matrix(y_test,predictions))"
   ]
  },
  {
   "cell_type": "code",
   "execution_count": 35,
   "id": "581d4ff1-5534-4d02-b348-e33c2b04151d",
   "metadata": {},
   "outputs": [],
   "source": [
    "eclf2=VotingClassifier(estimators=[('DT',clf1),('GNB',clf2),('LR',clf3)], voting='soft')\n",
    "eclf2=eclf2.fit(X_train,y_train)"
   ]
  },
  {
   "cell_type": "code",
   "execution_count": 37,
   "id": "15fb43b4-ee3c-44a8-9e50-3efeffddc296",
   "metadata": {},
   "outputs": [],
   "source": [
    "prediction=eclf2.predict(X_test)"
   ]
  },
  {
   "cell_type": "code",
   "execution_count": 39,
   "id": "31236ac8-afd8-46f5-8495-b2c85aea3595",
   "metadata": {},
   "outputs": [
    {
     "name": "stdout",
     "output_type": "stream",
     "text": [
      "              precision    recall  f1-score   support\n",
      "\n",
      "           0       0.67      0.60      0.63        52\n",
      "           1       0.83      0.87      0.85       119\n",
      "\n",
      "    accuracy                           0.79       171\n",
      "   macro avg       0.75      0.74      0.74       171\n",
      "weighted avg       0.78      0.79      0.79       171\n",
      "\n",
      "[[ 31  21]\n",
      " [ 15 104]]\n"
     ]
    }
   ],
   "source": [
    "from sklearn.metrics import classification_report , confusion_matrix\n",
    "\n",
    "print(classification_report(y_test,prediction))\n",
    "print(confusion_matrix(y_test,prediction))"
   ]
  },
  {
   "cell_type": "code",
   "execution_count": null,
   "id": "0d5c77dc-d1af-4a60-8a68-23160a7a3221",
   "metadata": {},
   "outputs": [],
   "source": []
  }
 ],
 "metadata": {
  "kernelspec": {
   "display_name": "Python 3 (ipykernel)",
   "language": "python",
   "name": "python3"
  },
  "language_info": {
   "codemirror_mode": {
    "name": "ipython",
    "version": 3
   },
   "file_extension": ".py",
   "mimetype": "text/x-python",
   "name": "python",
   "nbconvert_exporter": "python",
   "pygments_lexer": "ipython3",
   "version": "3.11.7"
  }
 },
 "nbformat": 4,
 "nbformat_minor": 5
}
